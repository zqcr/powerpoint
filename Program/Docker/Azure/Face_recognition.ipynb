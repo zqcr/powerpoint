{
 "cells": [
  {
   "cell_type": "code",
   "execution_count": 34,
   "metadata": {},
   "outputs": [],
   "source": [
    "import asyncio\n",
    "import io\n",
    "import glob\n",
    "import os\n",
    "import sys\n",
    "import time\n",
    "import uuid\n",
    "import requests\n",
    "from urllib.parse import urlparse\n",
    "from io import BytesIO\n",
    "from PIL import Image, ImageDraw\n",
    "from azure.cognitiveservices.vision.face import FaceClient\n",
    "from msrest.authentication import CognitiveServicesCredentials\n",
    "from azure.cognitiveservices.vision.face.models import TrainingStatusType, Person, SnapshotObjectType, OperationStatusType\n",
    "import warnings\n",
    "warnings.filterwarnings('ignore')"
   ]
  },
  {
   "cell_type": "code",
   "execution_count": 37,
   "metadata": {},
   "outputs": [
    {
     "name": "stdout",
     "output_type": "stream",
     "text": [
      "5df507ddf5d84572b4c2c99d39879490\n",
      "https://faceapiappzhaoqc.cognitiveservices.azure.com/\n"
     ]
    }
   ],
   "source": [
    "os.environ['FACE_SUBSCRIPTION_KEY'] = '5df507ddf5d84572b4c2c99d39879490'\n",
    "os.environ['FACE_ENDPOINT'] = 'https://faceapiappzhaoqc.cognitiveservices.azure.com/'\n",
    "remote_path = '/store/Data/AttendanceData/temp.png'\n",
    "local_path = '/Users/zhaoqc/Program/Docker/age_gender_recognition/aragaki_yokogao.jpeg'\n",
    "\n",
    "KEY = os.environ['FACE_SUBSCRIPTION_KEY']\n",
    "ENDPOINT = os.environ['FACE_ENDPOINT']\n",
    "print(KEY)\n",
    "print(ENDPOINT)"
   ]
  },
  {
   "cell_type": "code",
   "execution_count": 42,
   "metadata": {},
   "outputs": [
    {
     "ename": "FileNotFoundError",
     "evalue": "[Errno 2] No such file or directory: 'https://www.biography.com/.image/t_share/MTQ1MzAyNzYzOTgxNTE0NTEz/john-f-kennedy---mini-biography.jpg'",
     "output_type": "error",
     "traceback": [
      "\u001b[0;31m---------------------------------------------------------------------------\u001b[0m",
      "\u001b[0;31mFileNotFoundError\u001b[0m                         Traceback (most recent call last)",
      "\u001b[0;32m<ipython-input-42-d555aea0ed9a>\u001b[0m in \u001b[0;36m<module>\u001b[0;34m()\u001b[0m\n\u001b[1;32m      8\u001b[0m \u001b[0;31m# (stdin, stdout, stderr) = ssh.exec_command('pwd')\u001b[0m\u001b[0;34m\u001b[0m\u001b[0;34m\u001b[0m\u001b[0;34m\u001b[0m\u001b[0m\n\u001b[1;32m      9\u001b[0m \u001b[0;31m# print(stdout.read().decode())\u001b[0m\u001b[0;34m\u001b[0m\u001b[0;34m\u001b[0m\u001b[0;34m\u001b[0m\u001b[0m\n\u001b[0;32m---> 10\u001b[0;31m \u001b[0msftp\u001b[0m\u001b[0;34m.\u001b[0m\u001b[0mput\u001b[0m\u001b[0;34m(\u001b[0m\u001b[0msingle_face_image_url\u001b[0m\u001b[0;34m,\u001b[0m\u001b[0;34m'./temp2.png'\u001b[0m\u001b[0;34m)\u001b[0m\u001b[0;34m\u001b[0m\u001b[0;34m\u001b[0m\u001b[0m\n\u001b[0m\u001b[1;32m     11\u001b[0m \u001b[0msftp\u001b[0m\u001b[0;34m.\u001b[0m\u001b[0mclose\u001b[0m\u001b[0;34m(\u001b[0m\u001b[0;34m)\u001b[0m\u001b[0;34m\u001b[0m\u001b[0;34m\u001b[0m\u001b[0m\n\u001b[1;32m     12\u001b[0m \u001b[0mssh\u001b[0m\u001b[0;34m.\u001b[0m\u001b[0mclose\u001b[0m\u001b[0;34m(\u001b[0m\u001b[0;34m)\u001b[0m\u001b[0;34m\u001b[0m\u001b[0;34m\u001b[0m\u001b[0m\n",
      "\u001b[0;32m/anaconda/lib/python3.6/site-packages/paramiko/sftp_client.py\u001b[0m in \u001b[0;36mput\u001b[0;34m(self, localpath, remotepath, callback, confirm)\u001b[0m\n\u001b[1;32m    755\u001b[0m             \u001b[0;31m`\u001b[0m\u001b[0;31m`\u001b[0m\u001b[0mconfirm\u001b[0m\u001b[0;31m`\u001b[0m\u001b[0;31m`\u001b[0m \u001b[0mparam\u001b[0m \u001b[0madded\u001b[0m\u001b[0;34m.\u001b[0m\u001b[0;34m\u001b[0m\u001b[0;34m\u001b[0m\u001b[0m\n\u001b[1;32m    756\u001b[0m         \"\"\"\n\u001b[0;32m--> 757\u001b[0;31m         \u001b[0mfile_size\u001b[0m \u001b[0;34m=\u001b[0m \u001b[0mos\u001b[0m\u001b[0;34m.\u001b[0m\u001b[0mstat\u001b[0m\u001b[0;34m(\u001b[0m\u001b[0mlocalpath\u001b[0m\u001b[0;34m)\u001b[0m\u001b[0;34m.\u001b[0m\u001b[0mst_size\u001b[0m\u001b[0;34m\u001b[0m\u001b[0;34m\u001b[0m\u001b[0m\n\u001b[0m\u001b[1;32m    758\u001b[0m         \u001b[0;32mwith\u001b[0m \u001b[0mopen\u001b[0m\u001b[0;34m(\u001b[0m\u001b[0mlocalpath\u001b[0m\u001b[0;34m,\u001b[0m \u001b[0;34m\"rb\"\u001b[0m\u001b[0;34m)\u001b[0m \u001b[0;32mas\u001b[0m \u001b[0mfl\u001b[0m\u001b[0;34m:\u001b[0m\u001b[0;34m\u001b[0m\u001b[0;34m\u001b[0m\u001b[0m\n\u001b[1;32m    759\u001b[0m             \u001b[0;32mreturn\u001b[0m \u001b[0mself\u001b[0m\u001b[0;34m.\u001b[0m\u001b[0mputfo\u001b[0m\u001b[0;34m(\u001b[0m\u001b[0mfl\u001b[0m\u001b[0;34m,\u001b[0m \u001b[0mremotepath\u001b[0m\u001b[0;34m,\u001b[0m \u001b[0mfile_size\u001b[0m\u001b[0;34m,\u001b[0m \u001b[0mcallback\u001b[0m\u001b[0;34m,\u001b[0m \u001b[0mconfirm\u001b[0m\u001b[0;34m)\u001b[0m\u001b[0;34m\u001b[0m\u001b[0;34m\u001b[0m\u001b[0m\n",
      "\u001b[0;31mFileNotFoundError\u001b[0m: [Errno 2] No such file or directory: 'https://www.biography.com/.image/t_share/MTQ1MzAyNzYzOTgxNTE0NTEz/john-f-kennedy---mini-biography.jpg'"
     ]
    }
   ],
   "source": [
    "import paramiko\n",
    "\n",
    "ssh = paramiko.SSHClient() \n",
    "ssh.load_host_keys(os.path.expanduser(os.path.join(\"~\", \".ssh\", \"known_hosts\")))\n",
    "ssh.connect('10.1.103.21', username='zhaoqc', password='4425091zqc')\n",
    "sftp = ssh.open_sftp()\n",
    "sftp.chdir('/store/Data/AttendanceData/')\n",
    "# (stdin, stdout, stderr) = ssh.exec_command('pwd')\n",
    "# print(stdout.read().decode())\n",
    "sftp.put(local_path,'./temp2.png')\n",
    "sftp.close()\n",
    "ssh.close()\n"
   ]
  },
  {
   "cell_type": "code",
   "execution_count": 40,
   "metadata": {
    "collapsed": true
   },
   "outputs": [],
   "source": [
    "face_client = FaceClient(ENDPOINT, CognitiveServicesCredentials(KEY))"
   ]
  },
  {
   "cell_type": "code",
   "execution_count": 44,
   "metadata": {},
   "outputs": [
    {
     "name": "stdout",
     "output_type": "stream",
     "text": [
      "Detected face ID from john-f-kennedy---mini-biography.jpg :\n",
      "4bc91d49-8dc3-4665-8885-64e7eb156cfa\n",
      "\n"
     ]
    }
   ],
   "source": [
    "single_face_image_url = 'https://www.biography.com/.image/t_share/MTQ1MzAyNzYzOTgxNTE0NTEz/john-f-kennedy---mini-biography.jpg'\n",
    "single_image_name = os.path.basename(single_face_image_url)\n",
    "detected_faces = face_client.face.detect_with_url(url=single_face_image_url)\n",
    "if not detected_faces:\n",
    "    raise Exception('No face detected from image {}'.format(single_image_name))\n",
    "\n",
    "# Display the detected face ID in the first single-face image.\n",
    "# Face IDs are used for comparison to faces (their IDs) detected in other images.\n",
    "print('Detected face ID from', single_image_name, ':')\n",
    "for face in detected_faces: \n",
    "    print(face.face_id)\n",
    "print()\n",
    "\n",
    "# Save this ID for use in Find Similar\n",
    "first_image_face_ID = detected_faces[0].face_id\n",
    "\n",
    "def getRectangle(faceDictionary):\n",
    "    rect = faceDictionary.face_rectangle\n",
    "    left = rect.left\n",
    "    top = rect.top\n",
    "    bottom = left + rect.height\n",
    "    right = top + rect.width\n",
    "    return ((left, top), (bottom, right))\n",
    "\n"
   ]
  },
  {
   "cell_type": "code",
   "execution_count": 51,
   "metadata": {},
   "outputs": [
    {
     "name": "stdout",
     "output_type": "stream",
     "text": [
      "['__class__', '__delattr__', '__dict__', '__dir__', '__doc__', '__eq__', '__format__', '__ge__', '__getattribute__', '__gt__', '__hash__', '__init__', '__init_subclass__', '__le__', '__lt__', '__module__', '__ne__', '__new__', '__reduce__', '__reduce_ex__', '__repr__', '__setattr__', '__sizeof__', '__str__', '__subclasshook__', '__weakref__', '_attribute_map', '_classify', '_create_xml_node', '_flatten_subtype', '_get_rest_key_parts', '_infer_class_models', '_subtype_map', '_validation', 'additional_properties', 'as_dict', 'deserialize', 'enable_additional_properties_sending', 'face_attributes', 'face_id', 'face_landmarks', 'face_rectangle', 'from_dict', 'is_xml_model', 'recognition_model', 'serialize', 'validate']\n"
     ]
    }
   ],
   "source": [
    "print(dir(detected_faces[0]))"
   ]
  },
  {
   "cell_type": "code",
   "execution_count": 50,
   "metadata": {},
   "outputs": [
    {
     "name": "stdout",
     "output_type": "stream",
     "text": [
      "Similar faces found in president-family-portrait-closeup.jpg:\n",
      "  Face ID:  15019d2e-d7d0-4985-bd4b-845df39a9b73\n",
      "  Face rectangle:\n",
      "    Left:  413\n",
      "    Top:  57\n",
      "    Width:  55\n",
      "    Height:  55\n"
     ]
    }
   ],
   "source": [
    "# Detect the faces in an image that contains multiple faces\n",
    "# Each detected face gets assigned a new ID\n",
    "multi_face_image_url = \"http://www.historyplace.com/kennedy/president-family-portrait-closeup.jpg\"\n",
    "multi_image_name = os.path.basename(multi_face_image_url)\n",
    "detected_faces2 = face_client.face.detect_with_url(url=multi_face_image_url)\n",
    "second_image_face_IDs = list(map(lambda x: x.face_id, detected_faces2))\n",
    "similar_faces = face_client.face.find_similar(face_id=first_image_face_ID, face_ids=second_image_face_IDs)\n",
    "print('Similar faces found in', multi_image_name + ':')\n",
    "for face in similar_faces:\n",
    "    first_image_face_ID = face.face_id\n",
    "    # The similar face IDs of the single face image and the group image do not need to match, they are only used for identification purposes in each image.\n",
    "    # The similar faces are matched using the Cognitive Services algorithm in find_similar().\n",
    "    face_info = next(x for x in detected_faces2 if x.face_id == first_image_face_ID)\n",
    "    if face_info:\n",
    "        print('  Face ID: ', first_image_face_ID)\n",
    "        print('  Face rectangle:')\n",
    "        print('    Left: ', str(face_info.face_rectangle.left))\n",
    "        print('    Top: ', str(face_info.face_rectangle.top))\n",
    "        print('    Width: ', str(face_info.face_rectangle.width))\n",
    "        print('    Height: ', str(face_info.face_rectangle.height))"
   ]
  },
  {
   "cell_type": "code",
   "execution_count": 55,
   "metadata": {},
   "outputs": [],
   "source": [
    "response = requests.get(multi_face_image_url)\n",
    "img = Image.open(BytesIO(response.content))\n",
    "draw = ImageDraw.Draw(img)\n",
    "\n",
    "for face in similar_faces:\n",
    "    face_info = next(x for x in detected_faces2 if x.face_id == first_image_face_ID)\n",
    "    left_top = (face_info.face_rectangle.left,face_info.face_rectangle.top)\n",
    "    bottom_right = (face_info.face_rectangle.left+face_info.face_rectangle.width,face_info.face_rectangle.top+face_info.face_rectangle.height)\n",
    "    draw.rectangle((left_top,bottom_right), outline='red')\n",
    "    \n",
    "img.show()"
   ]
  }
 ],
 "metadata": {
  "kernelspec": {
   "display_name": "Python 3",
   "language": "python",
   "name": "python3"
  },
  "language_info": {
   "codemirror_mode": {
    "name": "ipython",
    "version": 3
   },
   "file_extension": ".py",
   "mimetype": "text/x-python",
   "name": "python",
   "nbconvert_exporter": "python",
   "pygments_lexer": "ipython3",
   "version": "3.6.8"
  }
 },
 "nbformat": 4,
 "nbformat_minor": 2
}
